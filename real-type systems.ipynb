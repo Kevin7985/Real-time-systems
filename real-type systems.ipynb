{
 "cells": [
  {
   "cell_type": "code",
   "execution_count": null,
   "id": "292d6ed6",
   "metadata": {
    "scrolled": false
   },
   "outputs": [],
   "source": [
    "!pip install pandas\n",
    "!pip install psycopg2\n",
    "!pip install scikit-learn"
   ]
  },
  {
   "cell_type": "code",
   "execution_count": 1,
   "id": "3dd7bafd",
   "metadata": {},
   "outputs": [],
   "source": [
    "import pandas as pd\n",
    "import psycopg2 as ps\n",
    "import re\n",
    "from tqdm import tqdm\n",
    "from matplotlib import pyplot as plt\n",
    "import pickle"
   ]
  },
  {
   "cell_type": "code",
   "execution_count": 2,
   "id": "d548f46f",
   "metadata": {},
   "outputs": [],
   "source": [
    "connection = ps.connect(dbname = 'realTimeSystem', user = 'postgres', password = 'root', host = 'localhost')\n",
    "cursor = connection.cursor()"
   ]
  },
  {
   "cell_type": "code",
   "execution_count": 12,
   "id": "c3b64872",
   "metadata": {},
   "outputs": [],
   "source": [
    "cursor.execute('TRUNCATE public.data')"
   ]
  },
  {
   "cell_type": "code",
   "execution_count": 6,
   "id": "4ed9639d",
   "metadata": {},
   "outputs": [],
   "source": [
    "cursor.execute(f'''CREATE TABLE IF NOT EXISTS public.data (\n",
    "    \"HeatNo\" integer,\n",
    "    \"TotalIngotsWeight\" real,\n",
    "    \"PouringScrap\" real,\n",
    "    \"OtherScrap\" real,\n",
    "    \"Last_EOP\" real,\n",
    "    \"Cr_Last_EOP\" real,\n",
    "    \"Cr_Final_basic\" real,\n",
    "    \"LFVD_FeCrA_basic\" real,\n",
    "    \"LFVD_FeCrC_basic\" real,\n",
    "    \"Ni_Last_EOP\" real,\n",
    "    \"Ni_Final_basic\" real,\n",
    "    \"LFVD_NiGran_basic\" real,\n",
    "    \"LFVD_NiKatode_basic\" real,\n",
    "    \"Mo_Last_EOP\" real,\n",
    "    \"Mo_Final_basic\" real,\n",
    "    \"LFVD_FeMo_basic\" real,\n",
    "    \"LFVD_Polymox_basic\" real,\n",
    "    \"V_Last_EOP\" real,\n",
    "    \"V_Final_basic\" real,\n",
    "    \"LFVD_FeV_basic\" real,\n",
    "    \"W_Last_EOP\" real,\n",
    "    \"W_Final_basic\" real,\n",
    "    \"LFVD_FeW72_basic\" real,\n",
    "    \"LFVD_WPaketi_basic\" real,\n",
    "    \"Cr_LowerLimit\" real,\n",
    "    \"Cr_Target\" real,\n",
    "    \"Cr_UpperLimit\" real,\n",
    "    \"Cr_Final\" real,\n",
    "    \"Ni_LowerLimit\" real,\n",
    "    \"Ni_Target\" real,\n",
    "    \"Ni_UpperLimit\" real,\n",
    "    \"Ni_Final\" real,\n",
    "    \"Mo_LowerLimit\" real,\n",
    "    \"Mo_Target\" real,\n",
    "    \"Mo_UpperLimit\" real,\n",
    "    \"Mo_Final\" real,\n",
    "    \"V_LowerLimit\" real,\n",
    "    \"V_Target\" real,\n",
    "    \"V_UpperLimit\" real,\n",
    "    \"V_Final\" real,\n",
    "    \"W_LowerLimit\" real,\n",
    "    \"W_Target\" real,\n",
    "    \"W_UpperLimit\" real,\n",
    "    \"W_Final\" real,\n",
    "    \"FeMo\" real,\n",
    "    \"FeV\" real,\n",
    "    \"FeMnC\" real,\n",
    "    \"FeSi\" real,\n",
    "    \"CaO\" real,\n",
    "    \"BOKSIT beli\" real,\n",
    "    \"Al bloki\" real,\n",
    "    \"KARBORITmleti\" real,\n",
    "    \"FeCrC\" real,\n",
    "    \"SLAGMAG 65B\" real,\n",
    "    \"EPZ zlindra\" real,\n",
    "    \"CASIfi13\" real,\n",
    "    \"Cfi13\" real,\n",
    "    \"FeCrC51\" real,\n",
    "    \"SiMn\" real,\n",
    "    \"FeCrC Si\" real,\n",
    "    \"Al zica\" real,\n",
    "    \"Borax\" real,\n",
    "    \"S žica\" real,\n",
    "    \"BOKSIT\" real,\n",
    "    \"Mn met\" real,\n",
    "    \"Al gran\" real,\n",
    "    \"FeCrCSi\" real,\n",
    "    \"Ni gran\" real,\n",
    "    \"SINT. ŽLINDRA\" real,\n",
    "    \"DUŠIK\" real,\n",
    "    \"karburit-kosi\" real,\n",
    "    \"FeV opl. žica\" real,\n",
    "    \"FeS\" real,\n",
    "    \"Ni katode\" real,\n",
    "    \"LFVD_AlBloki\" integer,\n",
    "    \"LFVD_AlGran\" integer,\n",
    "    \"LFVD_Boksit\" integer,\n",
    "    \"LFVD_CaO\" integer,\n",
    "    \"LFVD_CaSi\" integer,\n",
    "    \"LFVD_CASIfi13\" real,\n",
    "    \"LFVD_Cfi13\" real,\n",
    "    \"LFVD_CoMet\" integer,\n",
    "    \"LFVD_Cu\" integer,\n",
    "    \"LFVD_EPŽŽlindra\" integer,\n",
    "    \"LFVD_FeAl\" integer,\n",
    "    \"LFVD_FeB\" integer,\n",
    "    \"LFVD_FeBŽica\" integer,\n",
    "    \"LFVD_FeCrNit\" integer,\n",
    "    \"LFVD_FeCrA\" integer,\n",
    "    \"LFVD_FeCrC\" integer,\n",
    "    \"LFVD_FeCrCSi\" integer,\n",
    "    \"LFVD_FeCrC51\" integer,\n",
    "    \"LFVD_FeMnA\" integer,\n",
    "    \"LFVD_FeMnC\" integer,\n",
    "    \"LFVD_FeMo\" integer,\n",
    "    \"LFVD_FeNbTa\" integer,\n",
    "    \"LFVD_FeNbTafi13\" integer,\n",
    "    \"LFVD_FeS\" integer,\n",
    "    \"LFVD_FeSi\" integer,\n",
    "    \"LFVD_FeSiZrŽica\" integer,\n",
    "    \"LFVD_FeTi\" integer,\n",
    "    \"LFVD_FeTifi13\" integer,\n",
    "    \"LFVD_FeV\" integer,\n",
    "    \"LFVD_FeW72\" integer,\n",
    "    \"LFVD_KarboritMleti\" integer,\n",
    "    \"LFVD_MnMet\" integer,\n",
    "    \"LFVD_NiGran\" integer,\n",
    "    \"LFVD_NiKatode\" integer,\n",
    "    \"LFVD_NiOksid\" integer,\n",
    "    \"LFVD_OdpCu\" integer,\n",
    "    \"LFVD_Polymox\" integer,\n",
    "    \"LFVD_SŽica\" real,\n",
    "    \"LFVD_SiMet\" integer,\n",
    "    \"LFVD_SiMn\" integer,\n",
    "    \"LFVD_SLAGMAG65B\" integer,\n",
    "    \"LFVD_KarboritZaVpih\" integer,\n",
    "    \"LFVD_Ni90\" integer,\n",
    "    \"LFVD_AlŽica\" real,\n",
    "    \"LFVD_Molyquick\" integer,\n",
    "    \"LFVD_AlOplašèenaŽica\" real,\n",
    "    \"LFVD_BelaŽlindra\" integer,\n",
    "    \"LFVD_Kisik\" integer,\n",
    "    \"LFVD_KalcijevKarbid\" integer,\n",
    "    \"LFVD_WPaketi\" integer,\n",
    "    \"LFVD_SintŽlindra\" integer,\n",
    "    \"LFVD_AlloyWeight\" integer,\n",
    "    \"LFVD_NonMetalInclusionsWeight\" integer,\n",
    "    \"E3\" real,\n",
    "    \"OSIKRO3\" real,\n",
    "    \"OCR12\" real,\n",
    "    \"VCMO230\" real,\n",
    "    \"PK5\" real,\n",
    "    \"UTOPMO2\" real,\n",
    "    \"EMCR\" real,\n",
    "    \"E6\" real,\n",
    "    \"OCR12VM OSTRUŽKI\" real,\n",
    "    \"OCR12SP\" real,\n",
    "    \"PT181\" real,\n",
    "    \"CRV\" real,\n",
    "    \"E8\" real,\n",
    "    \"PK2\" real,\n",
    "    \"OSIKRO4\" real,\n",
    "    \"PT929\" real,\n",
    "    \"UTOP1\" real,\n",
    "    \"OH252\" real,\n",
    "    \"CRMO OSTRUŽKI\" real,\n",
    "    \"PK5M\" real,\n",
    "    \"OCR12VM\" real,\n",
    "    \"OH255\" real,\n",
    "    \"E40\" real,\n",
    "    \"ECN150\" real,\n",
    "    \"UTOP2\" real,\n",
    "    \"UTOPMO4\" real,\n",
    "    \"31CRV3\" real,\n",
    "    \"PV_MKK\" integer,\n",
    "    \"PV_PO102\" integer,\n",
    "    \"PV_OCR12SPW\" integer,\n",
    "    \"PV_OCR8W\" integer,\n",
    "    \"PV_PO180\" integer,\n",
    "    \"PV_PT181\" integer,\n",
    "    \"PV_PT202\" integer,\n",
    "    \"PV_PT212\" integer,\n",
    "    \"PV_OH239\" integer,\n",
    "    \"PV_OSIKRO3\" integer,\n",
    "    \"PV_OW4\" integer,\n",
    "    \"PV_OCR8VMS\" integer,\n",
    "    \"PV_CRV3\" integer,\n",
    "    \"PV_OH250\" integer,\n",
    "    \"PV_OH252\" integer,\n",
    "    \"PV_OH255\" integer,\n",
    "    \"PV_OH257\" integer,\n",
    "    \"PV_OH258\" integer,\n",
    "    \"PV_OH260\" integer,\n",
    "    \"PV_OH236NI\" integer,\n",
    "    \"PV_UTOPMONI\" integer,\n",
    "    \"PV_PKTB\" integer,\n",
    "    \"PV_PK3NI\" integer,\n",
    "    \"PV_PK332\" integer,\n",
    "    \"PV_PK335\" integer,\n",
    "    \"PV_PK338\" integer,\n",
    "    \"PV_PK340\" integer,\n",
    "    \"PV_PK11S\" integer,\n",
    "    \"PV_PK343\" integer,\n",
    "    \"PV_18MNCR4\" integer,\n",
    "    \"PV_PK346\" integer,\n",
    "    \"PV_INVAR36\" integer,\n",
    "    \"PV_EMCR\" integer,\n",
    "    \"PV_SIVA_LITINA\" integer,\n",
    "    \"PV_CK10\" integer,\n",
    "    \"PV_OC100EX\" integer,\n",
    "    \"PV_EC80\" integer,\n",
    "    \"PV_VCMO140\" integer,\n",
    "    \"PV_VCMO230\" integer,\n",
    "    \"PV_31CRV3\" integer,\n",
    "    \"PV_ECN150\" integer,\n",
    "    \"PV_ECN35\" integer,\n",
    "    \"PV_VCNMO200\" integer,\n",
    "    \"PV_UTOPNICU\" integer,\n",
    "    \"PV_OH807\" integer,\n",
    "    \"PV_OCR4PR\" integer,\n",
    "    \"PV_OCR12\" integer,\n",
    "    \"PV_OCR12SP\" integer,\n",
    "    \"PV_OCR12EX\" integer,\n",
    "    \"PV_CRV\" integer,\n",
    "    \"PV_TMCN2\" integer,\n",
    "    \"PV_TMCN1\" integer,\n",
    "    \"PV_OSIKRO4\" integer,\n",
    "    \"PV_OW1\" integer,\n",
    "    \"PV_OCR12VM\" integer,\n",
    "    \"PV_CRV2\" integer,\n",
    "    \"PV_OSV1\" integer,\n",
    "    \"PV_OW6\" integer,\n",
    "    \"PV_145V33\" integer,\n",
    "    \"PV_UTOP3\" integer,\n",
    "    \"PV_UTOPMO2\" integer,\n",
    "    \"PV_UTOPEX1\" integer,\n",
    "    \"PV_UTOP1\" integer,\n",
    "    \"PV_UTOP2\" integer,\n",
    "    \"PV_UTOPCO\" integer,\n",
    "    \"PV_UTOPEX3\" integer,\n",
    "    \"PV_UTOPMO4\" integer,\n",
    "    \"PV_UTOPCO2\" integer,\n",
    "    \"PV_OV862\" integer,\n",
    "    \"PV_UTOPMO6\" integer,\n",
    "    \"PV_UTOP33\" integer,\n",
    "    \"PV_UTOPSP\" integer,\n",
    "    \"PV_UTOPCO3\" integer,\n",
    "    \"PV_BRW\" integer,\n",
    "    \"PV_BRW1\" integer,\n",
    "    \"PV_BRC\" integer,\n",
    "    \"PV_BRM2\" integer,\n",
    "    \"PV_BRM1\" integer,\n",
    "    \"PV_BRM\" integer,\n",
    "    \"PV_BRCV\" integer,\n",
    "    \"PV_BRC3\" integer,\n",
    "    \"PV_BRU\" integer,\n",
    "    \"PV_BRCMO\" integer,\n",
    "    \"PV_BRCMO2\" integer,\n",
    "    \"PV_UTOPTI\" integer,\n",
    "    \"PV_12MN\" integer,\n",
    "    \"PV_PK2\" integer,\n",
    "    \"PV_RAVNIN2\" integer,\n",
    "    \"PV_RAVNIN3\" integer,\n",
    "    \"PV_RAVNIN4\" integer,\n",
    "    \"PV_PK2SP\" integer,\n",
    "    \"PV_PK11\" integer,\n",
    "    \"PV_PK12\" integer,\n",
    "    \"PV_PK13\" integer,\n",
    "    \"PV_PKAS\" integer,\n",
    "    \"PV_PK15\" integer,\n",
    "    \"PV_PK19\" integer,\n",
    "    \"PV_PK20\" integer,\n",
    "    \"PV_PT929\" integer,\n",
    "    \"PV_PK5\" integer,\n",
    "    \"PV_PK5M\" integer,\n",
    "    \"PV_28304N\" integer,\n",
    "    \"PV_PK939\" integer,\n",
    "    \"PV_X45\" integer,\n",
    "    \"PV_PK942\" integer,\n",
    "    \"PV_RAVNAL2\" integer,\n",
    "    \"PV_PK10\" integer,\n",
    "    \"PV_19MNCR18\" integer,\n",
    "    \"PV_214N\" integer,\n",
    "    \"PV_OCR8W_OSTRUŽKI\" integer,\n",
    "    \"PV_CRV3_OSTRUŽKI\" integer,\n",
    "    \"PV_PK335_OSTRUŽKI\" integer,\n",
    "    \"PV_CRMO_OSTRUŽKI\" integer,\n",
    "    \"PV_CRMO_DROBIŽ\" integer,\n",
    "    \"PV_VCNMO200_DROBIŽ\" integer,\n",
    "    \"PV_TMCN2_OSTRUŽKI\" integer,\n",
    "    \"PV_OCR12VM_OSTRUŽKI\" integer,\n",
    "    \"PV_POSEBNA_JEKLA_OSTRUŽKI\" integer,\n",
    "    \"PV_BRM2_OSTRUŽKI\" integer,\n",
    "    \"PV_E1\" integer,\n",
    "    \"PV_E3\" integer,\n",
    "    \"PV_E6\" integer,\n",
    "    \"PV_E8\" integer,\n",
    "    \"PV_Kore\" integer,\n",
    "    \"PV_GRODELJ\" integer,\n",
    "    \"PV_E40\" integer\n",
    ");''')\n",
    "\n",
    "connection.commit()"
   ]
  },
  {
   "cell_type": "code",
   "execution_count": 7,
   "id": "37fa9cdc",
   "metadata": {},
   "outputs": [],
   "source": [
    "col_heads = ['HeatNo', 'TotalIngotsWeight', 'PouringScrap', 'OtherScrap', 'Last_EOP', 'Cr_Last_EOP', 'Cr_Final_basic', 'LFVD_FeCrA_basic', 'LFVD_FeCrC_basic', 'Ni_Last_EOP', 'Ni_Final_basic', 'LFVD_NiGran_basic', 'LFVD_NiKatode_basic', 'Mo_Last_EOP', 'Mo_Final_basic', 'LFVD_FeMo_basic', 'LFVD_Polymox_basic', 'V_Last_EOP', 'V_Final_basic', 'LFVD_FeV_basic', 'W_Last_EOP', 'W_Final_basic', 'LFVD_FeW72_basic', 'LFVD_WPaketi_basic', 'Cr_LowerLimit', 'Cr_Target', 'Cr_UpperLimit', 'Cr_Final', 'Ni_LowerLimit', 'Ni_Target', 'Ni_UpperLimit', 'Ni_Final', 'Mo_LowerLimit', 'Mo_Target', 'Mo_UpperLimit', 'Mo_Final', 'V_LowerLimit', 'V_Target', 'V_UpperLimit', 'V_Final', 'W_LowerLimit', 'W_Target', 'W_UpperLimit', 'W_Final', 'FeMo', 'FeV', 'FeMnC', 'FeSi', 'CaO', 'BOKSIT beli', 'Al bloki', 'KARBORITmleti', 'FeCrC', 'SLAGMAG 65B', 'EPZ zlindra', 'CASIfi13', 'Cfi13', 'FeCrC51', 'SiMn', 'FeCrC Si', 'Al zica', 'Borax', 'S žica', 'BOKSIT', 'Mn met', 'Al gran', 'FeCrCSi', 'Ni gran', 'SINT. ŽLINDRA', 'DUŠIK', 'karburit-kosi', 'FeV opl. žica', 'FeS', 'Ni katode', 'LFVD_AlBloki', 'LFVD_AlGran', 'LFVD_Boksit', 'LFVD_CaO', 'LFVD_CaSi', 'LFVD_CASIfi13', 'LFVD_Cfi13', 'LFVD_CoMet', 'LFVD_Cu', 'LFVD_EPŽŽlindra', 'LFVD_FeAl', 'LFVD_FeB', 'LFVD_FeBŽica', 'LFVD_FeCrNit', 'LFVD_FeCrA', 'LFVD_FeCrC', 'LFVD_FeCrCSi', 'LFVD_FeCrC51', 'LFVD_FeMnA', 'LFVD_FeMnC', 'LFVD_FeMo', 'LFVD_FeNbTa', 'LFVD_FeNbTafi13', 'LFVD_FeS', 'LFVD_FeSi', 'LFVD_FeSiZrŽica', 'LFVD_FeTi', 'LFVD_FeTifi13', 'LFVD_FeV', 'LFVD_FeW72', 'LFVD_KarboritMleti', 'LFVD_MnMet', 'LFVD_NiGran', 'LFVD_NiKatode', 'LFVD_NiOksid', 'LFVD_OdpCu', 'LFVD_Polymox', 'LFVD_SŽica', 'LFVD_SiMet', 'LFVD_SiMn', 'LFVD_SLAGMAG65B', 'LFVD_KarboritZaVpih', 'LFVD_Ni90', 'LFVD_AlŽica', 'LFVD_Molyquick', 'LFVD_AlOplašèenaŽica', 'LFVD_BelaŽlindra', 'LFVD_Kisik', 'LFVD_KalcijevKarbid', 'LFVD_WPaketi', 'LFVD_SintŽlindra', 'LFVD_AlloyWeight', 'LFVD_NonMetalInclusionsWeight', 'E3', 'OSIKRO3', 'OCR12', 'VCMO230', 'PK5', 'UTOPMO2', 'EMCR', 'E6', 'OCR12VM OSTRUŽKI', 'OCR12SP', 'PT181', 'CRV', 'E8', 'PK2', 'OSIKRO4', 'PT929', 'UTOP1', 'OH252', 'CRMO OSTRUŽKI', 'PK5M', 'OCR12VM', 'OH255', 'E40', 'ECN150', 'UTOP2', 'UTOPMO4', '31CRV3', 'PV_MKK', 'PV_PO102', 'PV_OCR12SPW', 'PV_OCR8W', 'PV_PO180', 'PV_PT181', 'PV_PT202', 'PV_PT212', 'PV_OH239', 'PV_OSIKRO3', 'PV_OW4', 'PV_OCR8VMS', 'PV_CRV3', 'PV_OH250', 'PV_OH252', 'PV_OH255', 'PV_OH257', 'PV_OH258', 'PV_OH260', 'PV_OH236NI', 'PV_UTOPMONI', 'PV_PKTB', 'PV_PK3NI', 'PV_PK332', 'PV_PK335', 'PV_PK338', 'PV_PK340', 'PV_PK11S', 'PV_PK343', 'PV_18MNCR4', 'PV_PK346', 'PV_INVAR36', 'PV_EMCR', 'PV_SIVA_LITINA', 'PV_CK10', 'PV_OC100EX', 'PV_EC80', 'PV_VCMO140', 'PV_VCMO230', 'PV_31CRV3', 'PV_ECN150', 'PV_ECN35', 'PV_VCNMO200', 'PV_UTOPNICU', 'PV_OH807', 'PV_OCR4PR', 'PV_OCR12', 'PV_OCR12SP', 'PV_OCR12EX', 'PV_CRV', 'PV_TMCN2', 'PV_TMCN1', 'PV_OSIKRO4', 'PV_OW1', 'PV_OCR12VM', 'PV_CRV2', 'PV_OSV1', 'PV_OW6', 'PV_145V33', 'PV_UTOP3', 'PV_UTOPMO2', 'PV_UTOPEX1', 'PV_UTOP1', 'PV_UTOP2', 'PV_UTOPCO', 'PV_UTOPEX3', 'PV_UTOPMO4', 'PV_UTOPCO2', 'PV_OV862', 'PV_UTOPMO6', 'PV_UTOP33', 'PV_UTOPSP', 'PV_UTOPCO3', 'PV_BRW', 'PV_BRW1', 'PV_BRC', 'PV_BRM2', 'PV_BRM1', 'PV_BRM', 'PV_BRCV', 'PV_BRC3', 'PV_BRU', 'PV_BRCMO', 'PV_BRCMO2', 'PV_UTOPTI', 'PV_12MN', 'PV_PK2', 'PV_RAVNIN2', 'PV_RAVNIN3', 'PV_RAVNIN4', 'PV_PK2SP', 'PV_PK11', 'PV_PK12', 'PV_PK13', 'PV_PKAS', 'PV_PK15', 'PV_PK19', 'PV_PK20', 'PV_PT929', 'PV_PK5', 'PV_PK5M', 'PV_28304N', 'PV_PK939', 'PV_X45', 'PV_PK942', 'PV_RAVNAL2', 'PV_PK10', 'PV_19MNCR18', 'PV_214N', 'PV_OCR8W_OSTRUŽKI', 'PV_CRV3_OSTRUŽKI', 'PV_PK335_OSTRUŽKI', 'PV_CRMO_OSTRUŽKI', 'PV_CRMO_DROBIŽ', 'PV_VCNMO200_DROBIŽ', 'PV_TMCN2_OSTRUŽKI', 'PV_OCR12VM_OSTRUŽKI', 'PV_POSEBNA_JEKLA_OSTRUŽKI', 'PV_BRM2_OSTRUŽKI', 'PV_E1', 'PV_E3', 'PV_E6', 'PV_E8', 'PV_Kore', 'PV_GRODELJ', 'PV_E40']"
   ]
  },
  {
   "cell_type": "code",
   "execution_count": 8,
   "id": "1d0ab953",
   "metadata": {},
   "outputs": [],
   "source": [
    "FILE_PATH = 'C:/Users/12982/Downloads/Telegram Desktop/PQM - podatki za pilotni projekt (OCR12VM) - ENG.xlsx'"
   ]
  },
  {
   "cell_type": "code",
   "execution_count": 9,
   "id": "19a81539",
   "metadata": {},
   "outputs": [],
   "source": [
    "xls = pd.ExcelFile(FILE_PATH)"
   ]
  },
  {
   "cell_type": "code",
   "execution_count": 10,
   "id": "504107f2",
   "metadata": {},
   "outputs": [],
   "source": [
    "tables = xls.sheet_names"
   ]
  },
  {
   "cell_type": "markdown",
   "id": "c52d1784",
   "metadata": {},
   "source": [
    "### Вносим данные в БД:"
   ]
  },
  {
   "cell_type": "code",
   "execution_count": 13,
   "id": "3f431d7a",
   "metadata": {},
   "outputs": [
    {
     "name": "stdout",
     "output_type": "stream",
     "text": [
      "Table1 (basic)\n"
     ]
    },
    {
     "name": "stderr",
     "output_type": "stream",
     "text": [
      "100%|██████████████████████████████████████████████████████████████████████████████| 3610/3610 [01:44<00:00, 34.45it/s]\n"
     ]
    },
    {
     "name": "stdout",
     "output_type": "stream",
     "text": [
      "Table1 (basic) - complete\n",
      "Table2 (limits)\n"
     ]
    },
    {
     "name": "stderr",
     "output_type": "stream",
     "text": [
      "100%|██████████████████████████████████████████████████████████████████████████████| 3606/3606 [04:28<00:00, 13.41it/s]\n"
     ]
    },
    {
     "name": "stdout",
     "output_type": "stream",
     "text": [
      "Table2 (limits) - complete\n",
      "Table3 (events)\n"
     ]
    },
    {
     "name": "stderr",
     "output_type": "stream",
     "text": [
      "100%|██████████████████████████████████████████████████████████████████████████████| 3582/3582 [04:16<00:00, 13.95it/s]\n"
     ]
    },
    {
     "name": "stdout",
     "output_type": "stream",
     "text": [
      "Table3 (events) - complete\n",
      "Table4 (alloys)\n"
     ]
    },
    {
     "name": "stderr",
     "output_type": "stream",
     "text": [
      "100%|██████████████████████████████████████████████████████████████████████████████| 3582/3582 [03:46<00:00, 15.80it/s]\n"
     ]
    },
    {
     "name": "stdout",
     "output_type": "stream",
     "text": [
      "Table4 (alloys) - complete\n",
      "Table6 (weights)\n"
     ]
    },
    {
     "name": "stderr",
     "output_type": "stream",
     "text": [
      "100%|█████████████████████████████████████████████████████████████████████████████| 3590/3590 [00:30<00:00, 118.77it/s]\n"
     ]
    },
    {
     "name": "stdout",
     "output_type": "stream",
     "text": [
      "Table6 (weights) - complete\n",
      "Table8 (scrap)\n"
     ]
    },
    {
     "name": "stderr",
     "output_type": "stream",
     "text": [
      "100%|██████████████████████████████████████████████████████████████████████████████| 3588/3588 [01:08<00:00, 52.30it/s]\n"
     ]
    },
    {
     "name": "stdout",
     "output_type": "stream",
     "text": [
      "Table8 (scrap) - complete\n",
      "Table9 (all. scr.)\n"
     ]
    },
    {
     "name": "stderr",
     "output_type": "stream",
     "text": [
      "100%|██████████████████████████████████████████████████████████████████████████████| 3588/3588 [00:36<00:00, 98.66it/s]\n"
     ]
    },
    {
     "name": "stdout",
     "output_type": "stream",
     "text": [
      "Table9 (all. scr.) - complete\n",
      "Table10 (unall. scr.)\n"
     ]
    },
    {
     "name": "stderr",
     "output_type": "stream",
     "text": [
      "100%|█████████████████████████████████████████████████████████████████████████████| 3588/3588 [00:14<00:00, 246.12it/s]"
     ]
    },
    {
     "name": "stdout",
     "output_type": "stream",
     "text": [
      "Table10 (unall. scr.) - complete\n"
     ]
    },
    {
     "name": "stderr",
     "output_type": "stream",
     "text": [
      "\n"
     ]
    }
   ],
   "source": [
    "for table in tables:\n",
    "    if table in [\"Table5 (temps)\", \"Table7 (head)\"]:\n",
    "        continue\n",
    "    \n",
    "    print(table)\n",
    "    \n",
    "    if table == \"Table1 (basic)\":\n",
    "        sheet_data = xls.parse(table, skiprows = [0]).to_dict('records')\n",
    "        \n",
    "        all_records = len(sheet_data)\n",
    "        ind = 0\n",
    "        \n",
    "        data = []\n",
    "        \n",
    "        for row in tqdm(sheet_data):\n",
    "            ind += 1\n",
    "#             print(f'{ind} of {all_records}')\n",
    "            cursor.execute(f'SELECT * FROM data WHERE \"HeatNo\" = {row[\"HeatNo\"]}')\n",
    "            res = cursor.fetchone()\n",
    "            if not res:\n",
    "                temp = [\"0.0\"] * len(col_heads)\n",
    "                temp[0] = str(row[\"HeatNo\"])\n",
    "                data.append(temp)\n",
    "            \n",
    "                insert_vals_template = \", \".join(temp)\n",
    "                query = f\"INSERT INTO data VALUES({insert_vals_template})\"\n",
    "                cursor.execute(query)\n",
    "            connection.commit()\n",
    "        \n",
    "            for key in list(row.keys())[11:]:\n",
    "                if row[key] != row[key]:\n",
    "                    query = f'DELETE FROM data WHERE \"HeatNo\" = {row[\"HeatNo\"]}'\n",
    "                    cursor.execute(query)\n",
    "                elif row[key] == row[key] and row[key] != 0.0:\n",
    "                    query = f'UPDATE data SET \"{key}\" = {row[key]} WHERE \"HeatNo\" = {row[\"HeatNo\"]}'\n",
    "                    cursor.execute(query)\n",
    "        connection.commit()\n",
    "    \n",
    "    elif table in [\"Table2 (limits)\", \"Table4 (alloys)\", \"Table6 (weights)\", \"Table9 (all. scr.)\", \"Table10 (unall. scr.)\"]:\n",
    "        split_ind = 1\n",
    "        if table == \"Table2 (limits)\":\n",
    "            split_ind = 11\n",
    "        \n",
    "        sheet_data = xls.parse(table, skiprows = [0]).to_dict('records')\n",
    "        \n",
    "        all_records = len(sheet_data)\n",
    "        ind = 0\n",
    "        \n",
    "        for row in tqdm(sheet_data):\n",
    "            ind += 1\n",
    "#             print(f'{ind} of {all_records}')\n",
    "            \n",
    "            for key in list(row.keys())[split_ind:]:\n",
    "                if row[key] != row[key]:\n",
    "                    query = f'DELETE FROM data WHERE \"HeatNo\" = {row[\"HeatNo\"]}'\n",
    "                    cursor.execute(query)\n",
    "                elif row[key] == row[key] and row[key] != 0.0:\n",
    "                    query = f'UPDATE data SET \"{key}\" = {row[key]} WHERE \"HeatNo\" = {row[\"HeatNo\"]}'\n",
    "                    cursor.execute(query)\n",
    "        connection.commit()\n",
    "    \n",
    "        \n",
    "    elif table == \"Table3 (events)\":\n",
    "        df1 = pd.read_excel(FILE_PATH, sheet_name = table, skiprows = [0])\n",
    "        metals = ['FeMo', 'FeV', 'FeMnC', 'FeSi', 'CaO', 'BOKSIT beli', 'Al bloki', 'KARBORITmleti', 'FeCrC', 'SLAGMAG 65B', 'EPZ zlindra', 'CASIfi13', 'Cfi13', 'FeCrC51', 'SiMn', 'FeCrC Si', 'Al zica', 'Borax', 'S žica', 'BOKSIT', 'Mn met', 'Al gran', 'FeCrCSi', 'Ni gran', 'SINT. ŽLINDRA', 'DUŠIK', 'karburit-kosi', 'FeV opl. žica', 'FeS', 'Ni katode']\n",
    "        \n",
    "        for metal in metals:\n",
    "            df1[metal] = df1['EventText'].apply(lambda x: float(re.findall('\\d+,\\d+', x)[-1].replace(\",\",\".\"))  if (metal in x ) else 0)\n",
    "        \n",
    "        df2 = df1[['HeatNo'] + metals].groupby(by = 'HeatNo').sum()\n",
    "        \n",
    "        HeatNumbers = set(list(df2[metals[0]].keys())) # Можно указать любой металл, я просто хочу получить массив имеющихся HeatNo\n",
    "        \n",
    "        all_records = len(HeatNumbers)\n",
    "        ind = 0\n",
    "        \n",
    "        for HeatNo in tqdm(HeatNumbers):\n",
    "            ind += 1\n",
    "#             print(f'{ind} of {all_records}')\n",
    "            \n",
    "            for metal in metals:\n",
    "                if df2[metal][HeatNo] != df2[metal][HeatNo]:\n",
    "                    query = f'DELETE FROM data WHERE \"HeatNo\" = {row[\"HeatNo\"]}'\n",
    "                    cursor.execute(query)\n",
    "                elif df2[metal][HeatNo] == df2[metal][HeatNo] and df2[metal][HeatNo] != 0.0:\n",
    "                    query = f'UPDATE data SET \"{metal}\" = {df2[metal][HeatNo]} WHERE \"HeatNo\" = {HeatNo}'\n",
    "                    cursor.execute(query)\n",
    "        connection.commit()\n",
    "    \n",
    "    elif table == \"Table8 (scrap)\":\n",
    "        sheet_data = xls.parse(table, skiprows = [0]).to_dict('records')\n",
    "        \n",
    "        all_records = len(sheet_data)\n",
    "        ind = 0\n",
    "        \n",
    "        for row in tqdm(sheet_data):\n",
    "            ind += 1\n",
    "#             print(f'{ind} of {all_records}')\n",
    "            \n",
    "            fills = {}\n",
    "            \n",
    "            for fill in range(1, 7):\n",
    "                title = row[f'Fill#{fill}_ScrapName']\n",
    "                if title != title:\n",
    "                    continue\n",
    "                    \n",
    "                if title not in fills:\n",
    "                    fills[title] = 0\n",
    "                \n",
    "                fills[title] += row[f'Fill#{fill}_ScrapWeight']\n",
    "            \n",
    "            cursor.execute(f'SELECT * FROM data WHERE \"HeatNo\" = {row[\"HeatNo\"]}')\n",
    "            heat = cursor.fetchone()\n",
    "            if heat:\n",
    "                for fill in fills:\n",
    "                    if fills[fill] != 0.0:\n",
    "                        query = f'UPDATE data SET \"{fill}\" = {heat[col_heads.index(fill)] + fills[fill]} WHERE \"HeatNo\" = {row[\"HeatNo\"]}'\n",
    "                        cursor.execute(query)\n",
    "                    \n",
    "        connection.commit()    \n",
    "    \n",
    "    print(f'{table} - complete')"
   ]
  },
  {
   "cell_type": "markdown",
   "id": "8f00a3d5",
   "metadata": {},
   "source": [
    "### Выведем статистику брака:"
   ]
  },
  {
   "cell_type": "code",
   "execution_count": 14,
   "id": "9b9c6c61",
   "metadata": {},
   "outputs": [
    {
     "name": "stdout",
     "output_type": "stream",
     "text": [
      "Cr: 93.226 т/год\n",
      "Ni: 327.534 т/год\n",
      "Mo: 121.3615 т/год\n",
      "V: 183.4955 т/год\n",
      "W: 141.4415 т/год\n",
      "Total: 867.0585 т/год\n"
     ]
    }
   ],
   "source": [
    "metals = ['Cr', 'Ni', 'Mo', 'V', 'W']\n",
    "summa = 0\n",
    "for metal in metals:\n",
    "    cursor.execute(f'SELECT \"HeatNo\", \"TotalIngotsWeight\", \"{metal}_LowerLimit\", \"{metal}_UpperLimit\", \"{metal}_Final\" FROM data WHERE (\"{metal}_Final\" > \"{metal}_UpperLimit\") OR (\"{metal}_Final\" < \"{metal}_LowerLimit\")')\n",
    "    res = cursor.fetchall()\n",
    "    df = pd.DataFrame(res, columns = ['HeatNo', 'TotalIngotsWeight', f'{metal}_LowerLimit', '{metal}_UpperLimit', '{metal}_Final'])\n",
    "    print(f'{metal}: {df[\"TotalIngotsWeight\"].sum() / 10000} т/год')\n",
    "    summa += df['TotalIngotsWeight'].sum() / 10000\n",
    "\n",
    "print(f'Total: {summa} т/год')"
   ]
  },
  {
   "cell_type": "markdown",
   "id": "9233d796",
   "metadata": {},
   "source": [
    "## Экономическая эффективность"
   ]
  },
  {
   "cell_type": "markdown",
   "id": "47f84a1a",
   "metadata": {},
   "source": [
    "Цена 1 тонны OCR12VM равна 1000 $/тонна\n",
    "Цена 1 кг FeV равна 2000 руб./кг\n",
    "Цена 1 кг FeMo равна 1600 руб./кг\n",
    "Цена 1 кг FeCr равна 1900 руб./кг"
   ]
  },
  {
   "cell_type": "markdown",
   "id": "23b9ae5e",
   "metadata": {},
   "source": [
    "\n",
    "### Рассмотрим FeCr:"
   ]
  },
  {
   "cell_type": "code",
   "execution_count": 15,
   "id": "ef6a7618",
   "metadata": {},
   "outputs": [
    {
     "name": "stdout",
     "output_type": "stream",
     "text": [
      "0.4119477286869944\n"
     ]
    }
   ],
   "source": [
    "cursor.execute('SELECT COUNT(\"HeatNo\") FROM data')\n",
    "res = cursor.fetchone()[0]\n",
    "\n",
    "cursor.execute('SELECT COUNT(\"HeatNo\") FROM data WHERE (\"Cr_Final\" > \"Cr_Target\")')\n",
    "res1 = cursor.fetchone()[0]\n",
    "\n",
    "used_more_Cr_percent = res1 / res # Доля заготовок, в которых Cr больше, чем было запланировано\n",
    "print(used_more_Cr_percent)"
   ]
  },
  {
   "cell_type": "code",
   "execution_count": 16,
   "id": "19d4c7c8",
   "metadata": {},
   "outputs": [
    {
     "name": "stdout",
     "output_type": "stream",
     "text": [
      "0.08469033232628405\n"
     ]
    }
   ],
   "source": [
    "cursor.execute('SELECT \"HeatNo\", \"Cr_Target\", \"Cr_Final\" FROM data WHERE (\"Cr_Final\" > \"Cr_Target\")')\n",
    "res = cursor.fetchall()\n",
    "\n",
    "df = pd.DataFrame(res, columns = ['HeatNo', 'Cr_Target', 'Cr_Final'])\n",
    "\n",
    "sred_percent_Cr = (df['Cr_Final'] - df['Cr_Target']).mean() # Средний процент отклонения\n",
    "print(sred_percent_Cr)"
   ]
  },
  {
   "cell_type": "code",
   "execution_count": 17,
   "id": "91d1cc94",
   "metadata": {},
   "outputs": [
    {
     "name": "stdout",
     "output_type": "stream",
     "text": [
      "Total: 258.41029999999995\n"
     ]
    }
   ],
   "source": [
    "cursor.execute('SELECT \"FeCrC\", \"FeCrC51\", \"FeCrC Si\", \"FeCrCSi\" FROM data')\n",
    "res = cursor.fetchall()\n",
    "\n",
    "df = pd.DataFrame(res, columns = ['FeCrC', 'FeCrC51', 'FeCrC Si', 'FeCrCSi'])\n",
    "summa_kg = 0\n",
    "for metal in df.keys():\n",
    "#     print(f'{metal}: {df[metal].sum() / 10000 * 0.4 * 0.0008}')\n",
    "#     print(f'{metal}: {df[metal].sum() / 10000}')\n",
    "    summa_kg += df[metal].sum() / 10000\n",
    "\n",
    "print(f'Total: {summa_kg}')\n",
    "used_Cr_tonns = summa_kg * used_more_Cr_percent * sred_percent_Cr"
   ]
  },
  {
   "cell_type": "code",
   "execution_count": 18,
   "id": "42c44ce2",
   "metadata": {},
   "outputs": [
    {
     "name": "stdout",
     "output_type": "stream",
     "text": [
      "FeCr использовали 9.01541597355321 т. - это ~ 17129290.3497511 руб.\n"
     ]
    }
   ],
   "source": [
    "Cr_price = used_Cr_tonns * 1000 * 1900\n",
    "print(f'FeCr использовали {used_Cr_tonns} т. - это ~ {Cr_price} руб.')"
   ]
  },
  {
   "cell_type": "markdown",
   "id": "fd47c561",
   "metadata": {},
   "source": [
    "### Рассмотрим FeMo:"
   ]
  },
  {
   "cell_type": "code",
   "execution_count": 19,
   "id": "b792ce15",
   "metadata": {},
   "outputs": [
    {
     "name": "stdout",
     "output_type": "stream",
     "text": [
      "0.6729931549471064\n"
     ]
    }
   ],
   "source": [
    "cursor.execute('SELECT COUNT(\"HeatNo\") FROM data')\n",
    "res = cursor.fetchone()[0]\n",
    "\n",
    "cursor.execute('SELECT COUNT(\"HeatNo\") FROM data WHERE (\"Mo_Final\" > \"Mo_Target\")')\n",
    "res1 = cursor.fetchone()[0]\n",
    "\n",
    "used_more_Mo_percent = res1 / res # Доля заготовок, в которых Mo больше, чем было запланировано\n",
    "print(used_more_Mo_percent)"
   ]
  },
  {
   "cell_type": "code",
   "execution_count": 20,
   "id": "bd84731d",
   "metadata": {},
   "outputs": [
    {
     "name": "stdout",
     "output_type": "stream",
     "text": [
      "0.022847896440129464\n"
     ]
    }
   ],
   "source": [
    "cursor.execute('SELECT \"HeatNo\", \"Mo_Target\", \"Mo_Final\" FROM data WHERE (\"Mo_Final\" > \"Mo_Target\")')\n",
    "res = cursor.fetchall()\n",
    "\n",
    "df = pd.DataFrame(res, columns = ['HeatNo', 'Mo_Target', 'Mo_Final'])\n",
    "\n",
    "sred_percent_Mo = (df['Mo_Final'] - df['Mo_Target']).mean() # Средний процент отклонения\n",
    "print(sred_percent_Mo)"
   ]
  },
  {
   "cell_type": "code",
   "execution_count": 21,
   "id": "ceea90a8",
   "metadata": {},
   "outputs": [
    {
     "name": "stdout",
     "output_type": "stream",
     "text": [
      "Total: 40.4986\n"
     ]
    }
   ],
   "source": [
    "cursor.execute('SELECT \"FeMo\" FROM data')\n",
    "res = cursor.fetchall()\n",
    "\n",
    "df = pd.DataFrame(res, columns = ['FeMo'])\n",
    "summa_kg = 0\n",
    "for metal in df.keys():\n",
    "    # print(f'{metal}: {df[metal].sum() / 10000 * 0.4 * 0.0008}')\n",
    "    # print(f'{metal}: {df[metal].sum() / 10000}')\n",
    "    summa_kg += df[metal].sum() / 10000\n",
    "\n",
    "print(f'Total: {summa_kg}')\n",
    "used_Mo_tonns = summa_kg * used_more_Mo_percent * sred_percent_Mo"
   ]
  },
  {
   "cell_type": "code",
   "execution_count": 22,
   "id": "ab47113d",
   "metadata": {},
   "outputs": [
    {
     "name": "stdout",
     "output_type": "stream",
     "text": [
      "FeMo использовали 0.6227258282514005 т. - это ~ 996361.325202241 руб.\n"
     ]
    }
   ],
   "source": [
    "Mo_price = used_Mo_tonns * 1000 * 1600\n",
    "print(f'FeMo использовали {used_Mo_tonns} т. - это ~ {Mo_price} руб.')"
   ]
  },
  {
   "cell_type": "markdown",
   "id": "eb83a456",
   "metadata": {},
   "source": [
    "### Рассмотрим FeV:"
   ]
  },
  {
   "cell_type": "code",
   "execution_count": 23,
   "id": "bf25479a",
   "metadata": {},
   "outputs": [
    {
     "name": "stdout",
     "output_type": "stream",
     "text": [
      "0.32514001244555074\n"
     ]
    }
   ],
   "source": [
    "cursor.execute('SELECT COUNT(\"HeatNo\") FROM data')\n",
    "res = cursor.fetchone()[0]\n",
    "\n",
    "cursor.execute('SELECT COUNT(\"HeatNo\") FROM data WHERE (\"V_Final\" > \"V_Target\")')\n",
    "res1 = cursor.fetchone()[0]\n",
    "\n",
    "used_more_V_percent = res1 / res # Доля заготовок, в которых V больше, чем было запланировано\n",
    "print(used_more_V_percent)"
   ]
  },
  {
   "cell_type": "code",
   "execution_count": 24,
   "id": "c7488265",
   "metadata": {},
   "outputs": [
    {
     "name": "stdout",
     "output_type": "stream",
     "text": [
      "0.019980861244019148\n"
     ]
    }
   ],
   "source": [
    "cursor.execute('SELECT \"HeatNo\", \"V_Target\", \"V_Final\" FROM data WHERE (\"V_Final\" > \"V_Target\")')\n",
    "res = cursor.fetchall()\n",
    "\n",
    "df = pd.DataFrame(res, columns = ['HeatNo', 'V_Target', 'V_Final'])\n",
    "\n",
    "sred_percent_V = (df['V_Final'] - df['V_Target']).mean() # Средний процент отклонения\n",
    "print(sred_percent_V)"
   ]
  },
  {
   "cell_type": "code",
   "execution_count": 25,
   "id": "a9714098",
   "metadata": {},
   "outputs": [
    {
     "name": "stdout",
     "output_type": "stream",
     "text": [
      "Total: 111.35427999999999\n"
     ]
    }
   ],
   "source": [
    "cursor.execute('SELECT \"FeV\", \"FeV opl. žica\" FROM data')\n",
    "res = cursor.fetchall()\n",
    "\n",
    "df = pd.DataFrame(res, columns = ['FeV', 'FeV opl. žica'])\n",
    "summa_kg = 0\n",
    "for metal in df.keys():\n",
    "#     print(f'{metal}: {df[metal].sum() / 10000 * 0.4 * 0.0008}')\n",
    "#     print(f'{metal}: {df[metal].sum() / 10000}')\n",
    "    summa_kg += df[metal].sum() / 10000\n",
    "\n",
    "print(f'Total: {summa_kg}')\n",
    "used_V_tonns = summa_kg * used_more_V_percent * sred_percent_V"
   ]
  },
  {
   "cell_type": "code",
   "execution_count": 26,
   "id": "1529e49f",
   "metadata": {},
   "outputs": [
    {
     "name": "stdout",
     "output_type": "stream",
     "text": [
      "FeV использовали 0.7234217070317365 т. - это ~ 1446843.414063473 руб.\n"
     ]
    }
   ],
   "source": [
    "V_price = used_V_tonns * 1000 * 2000\n",
    "print(f'FeV использовали {used_V_tonns} т. - это ~ {V_price} руб.')"
   ]
  },
  {
   "cell_type": "markdown",
   "id": "9cd65b75",
   "metadata": {},
   "source": [
    "### Узнаем суммарную стоимость брака:"
   ]
  },
  {
   "cell_type": "code",
   "execution_count": 27,
   "id": "b41d1f4f",
   "metadata": {},
   "outputs": [
    {
     "name": "stderr",
     "output_type": "stream",
     "text": [
      "C:\\Users\\12982\\AppData\\Local\\Temp\\ipykernel_12796\\1877591105.py:10: FutureWarning: The frame.append method is deprecated and will be removed from pandas in a future version. Use pandas.concat instead.\n",
      "  df_all = df_all.append(df)\n",
      "C:\\Users\\12982\\AppData\\Local\\Temp\\ipykernel_12796\\1877591105.py:10: FutureWarning: The frame.append method is deprecated and will be removed from pandas in a future version. Use pandas.concat instead.\n",
      "  df_all = df_all.append(df)\n",
      "C:\\Users\\12982\\AppData\\Local\\Temp\\ipykernel_12796\\1877591105.py:10: FutureWarning: The frame.append method is deprecated and will be removed from pandas in a future version. Use pandas.concat instead.\n",
      "  df_all = df_all.append(df)\n",
      "C:\\Users\\12982\\AppData\\Local\\Temp\\ipykernel_12796\\1877591105.py:10: FutureWarning: The frame.append method is deprecated and will be removed from pandas in a future version. Use pandas.concat instead.\n",
      "  df_all = df_all.append(df)\n",
      "C:\\Users\\12982\\AppData\\Local\\Temp\\ipykernel_12796\\1877591105.py:10: FutureWarning: The frame.append method is deprecated and will be removed from pandas in a future version. Use pandas.concat instead.\n",
      "  df_all = df_all.append(df)\n"
     ]
    }
   ],
   "source": [
    "metals = ['Cr', 'Ni', 'Mo', 'V', 'W']\n",
    "\n",
    "df_all = pd.DataFrame(columns = ['HeatNo', 'TotalIngotsWeight', 'lowerLimit', 'upperLimit', 'final'])\n",
    "\n",
    "for metal in metals:\n",
    "    cursor.execute(f'SELECT \"HeatNo\", \"TotalIngotsWeight\", \"{metal}_LowerLimit\", \"{metal}_UpperLimit\", \"{metal}_Final\" FROM data WHERE (\"{metal}_Final\" > \"{metal}_UpperLimit\") OR (\"{metal}_Final\" < \"{metal}_LowerLimit\")')\n",
    "    res = cursor.fetchall()\n",
    "    \n",
    "    df = pd.DataFrame(res, columns = ['HeatNo', 'TotalIngotsWeight', 'lowerLimit', 'upperLimit', 'final'])\n",
    "    df_all = df_all.append(df)\n",
    "\n",
    "brak_tonns = df_all.groupby(by = 'HeatNo').mean()['TotalIngotsWeight'].sum() / 10000"
   ]
  },
  {
   "cell_type": "code",
   "execution_count": 28,
   "id": "5d8e218d",
   "metadata": {},
   "outputs": [
    {
     "name": "stdout",
     "output_type": "stream",
     "text": [
      "Стоимость брака: 765108.5$\n"
     ]
    }
   ],
   "source": [
    "brak_price = brak_tonns * 1000\n",
    "print(f'Стоимость брака: {brak_price}$')"
   ]
  },
  {
   "cell_type": "code",
   "execution_count": 29,
   "id": "18f8fc1b",
   "metadata": {},
   "outputs": [
    {
     "name": "stdout",
     "output_type": "stream",
     "text": [
      "1026075.1011868909\n"
     ]
    }
   ],
   "source": [
    "print((Cr_price + Mo_price + V_price) / 75 + brak_price)"
   ]
  },
  {
   "cell_type": "markdown",
   "id": "5a342571",
   "metadata": {},
   "source": [
    "### Создание и обучение моделей"
   ]
  },
  {
   "cell_type": "markdown",
   "id": "00f79345",
   "metadata": {},
   "source": [
    "#### Данный код нужен был для получения массива всех существующих столбцов и создания массивов предикатов"
   ]
  },
  {
   "cell_type": "code",
   "execution_count": 30,
   "id": "5a5da061",
   "metadata": {},
   "outputs": [
    {
     "name": "stdout",
     "output_type": "stream",
     "text": [
      "['HeatNo', 'TotalIngotsWeight', 'PouringScrap', 'OtherScrap', 'Last_EOP', 'Cr_Last_EOP', 'Cr_Final_basic', 'LFVD_FeCrA_basic', 'LFVD_FeCrC_basic', 'Ni_Last_EOP', 'Ni_Final_basic', 'LFVD_NiGran_basic', 'LFVD_NiKatode_basic', 'Mo_Last_EOP', 'Mo_Final_basic', 'LFVD_FeMo_basic', 'LFVD_Polymox_basic', 'V_Last_EOP', 'V_Final_basic', 'LFVD_FeV_basic', 'W_Last_EOP', 'W_Final_basic', 'LFVD_FeW72_basic', 'LFVD_WPaketi_basic', 'Cr_LowerLimit', 'Cr_Target', 'Cr_UpperLimit', 'Cr_Final', 'Ni_LowerLimit', 'Ni_Target', 'Ni_UpperLimit', 'Ni_Final', 'Mo_LowerLimit', 'Mo_Target', 'Mo_UpperLimit', 'Mo_Final', 'V_LowerLimit', 'V_Target', 'V_UpperLimit', 'V_Final', 'W_LowerLimit', 'W_Target', 'W_UpperLimit', 'W_Final', 'FeMo', 'FeV', 'FeMnC', 'FeSi', 'CaO', 'BOKSIT beli', 'Al bloki', 'KARBORITmleti', 'FeCrC', 'SLAGMAG 65B', 'EPZ zlindra', 'CASIfi13', 'Cfi13', 'FeCrC51', 'SiMn', 'FeCrC Si', 'Al zica', 'Borax', 'S žica', 'BOKSIT', 'Mn met', 'Al gran', 'FeCrCSi', 'Ni gran', 'SINT. ŽLINDRA', 'DUŠIK', 'karburit-kosi', 'FeV opl. žica', 'FeS', 'Ni katode', 'LFVD_AlBloki', 'LFVD_AlGran', 'LFVD_Boksit', 'LFVD_CaO', 'LFVD_CaSi', 'LFVD_CASIfi13', 'LFVD_Cfi13', 'LFVD_CoMet', 'LFVD_Cu', 'LFVD_EPŽŽlindra', 'LFVD_FeAl', 'LFVD_FeB', 'LFVD_FeBŽica', 'LFVD_FeCrNit', 'LFVD_FeCrA', 'LFVD_FeCrC', 'LFVD_FeCrCSi', 'LFVD_FeCrC51', 'LFVD_FeMnA', 'LFVD_FeMnC', 'LFVD_FeMo', 'LFVD_FeNbTa', 'LFVD_FeNbTafi13', 'LFVD_FeS', 'LFVD_FeSi', 'LFVD_FeSiZrŽica', 'LFVD_FeTi', 'LFVD_FeTifi13', 'LFVD_FeV', 'LFVD_FeW72', 'LFVD_KarboritMleti', 'LFVD_MnMet', 'LFVD_NiGran', 'LFVD_NiKatode', 'LFVD_NiOksid', 'LFVD_OdpCu', 'LFVD_Polymox', 'LFVD_SŽica', 'LFVD_SiMet', 'LFVD_SiMn', 'LFVD_SLAGMAG65B', 'LFVD_KarboritZaVpih', 'LFVD_Ni90', 'LFVD_AlŽica', 'LFVD_Molyquick', 'LFVD_AlOplašèenaŽica', 'LFVD_BelaŽlindra', 'LFVD_Kisik', 'LFVD_KalcijevKarbid', 'LFVD_WPaketi', 'LFVD_SintŽlindra', 'LFVD_AlloyWeight', 'LFVD_NonMetalInclusionsWeight', 'E3', 'OSIKRO3', 'OCR12', 'VCMO230', 'PK5', 'UTOPMO2', 'EMCR', 'E6', 'OCR12VM OSTRUŽKI', 'OCR12SP', 'PT181', 'CRV', 'E8', 'PK2', 'OSIKRO4', 'PT929', 'UTOP1', 'OH252', 'CRMO OSTRUŽKI', 'PK5M', 'OCR12VM', 'OH255', 'E40', 'ECN150', 'UTOP2', 'UTOPMO4', '31CRV3', 'PV_MKK', 'PV_PO102', 'PV_OCR12SPW', 'PV_OCR8W', 'PV_PO180', 'PV_PT181', 'PV_PT202', 'PV_PT212', 'PV_OH239', 'PV_OSIKRO3', 'PV_OW4', 'PV_OCR8VMS', 'PV_CRV3', 'PV_OH250', 'PV_OH252', 'PV_OH255', 'PV_OH257', 'PV_OH258', 'PV_OH260', 'PV_OH236NI', 'PV_UTOPMONI', 'PV_PKTB', 'PV_PK3NI', 'PV_PK332', 'PV_PK335', 'PV_PK338', 'PV_PK340', 'PV_PK11S', 'PV_PK343', 'PV_18MNCR4', 'PV_PK346', 'PV_INVAR36', 'PV_EMCR', 'PV_SIVA_LITINA', 'PV_CK10', 'PV_OC100EX', 'PV_EC80', 'PV_VCMO140', 'PV_VCMO230', 'PV_31CRV3', 'PV_ECN150', 'PV_ECN35', 'PV_VCNMO200', 'PV_UTOPNICU', 'PV_OH807', 'PV_OCR4PR', 'PV_OCR12', 'PV_OCR12SP', 'PV_OCR12EX', 'PV_CRV', 'PV_TMCN2', 'PV_TMCN1', 'PV_OSIKRO4', 'PV_OW1', 'PV_OCR12VM', 'PV_CRV2', 'PV_OSV1', 'PV_OW6', 'PV_145V33', 'PV_UTOP3', 'PV_UTOPMO2', 'PV_UTOPEX1', 'PV_UTOP1', 'PV_UTOP2', 'PV_UTOPCO', 'PV_UTOPEX3', 'PV_UTOPMO4', 'PV_UTOPCO2', 'PV_OV862', 'PV_UTOPMO6', 'PV_UTOP33', 'PV_UTOPSP', 'PV_UTOPCO3', 'PV_BRW', 'PV_BRW1', 'PV_BRC', 'PV_BRM2', 'PV_BRM1', 'PV_BRM', 'PV_BRCV', 'PV_BRC3', 'PV_BRU', 'PV_BRCMO', 'PV_BRCMO2', 'PV_UTOPTI', 'PV_12MN', 'PV_PK2', 'PV_RAVNIN2', 'PV_RAVNIN3', 'PV_RAVNIN4', 'PV_PK2SP', 'PV_PK11', 'PV_PK12', 'PV_PK13', 'PV_PKAS', 'PV_PK15', 'PV_PK19', 'PV_PK20', 'PV_PT929', 'PV_PK5', 'PV_PK5M', 'PV_28304N', 'PV_PK939', 'PV_X45', 'PV_PK942', 'PV_RAVNAL2', 'PV_PK10', 'PV_19MNCR18', 'PV_214N', 'PV_OCR8W_OSTRUŽKI', 'PV_CRV3_OSTRUŽKI', 'PV_PK335_OSTRUŽKI', 'PV_CRMO_OSTRUŽKI', 'PV_CRMO_DROBIŽ', 'PV_VCNMO200_DROBIŽ', 'PV_TMCN2_OSTRUŽKI', 'PV_OCR12VM_OSTRUŽKI', 'PV_POSEBNA_JEKLA_OSTRUŽKI', 'PV_BRM2_OSTRUŽKI', 'PV_E1', 'PV_E3', 'PV_E6', 'PV_E8', 'PV_Kore', 'PV_GRODELJ', 'PV_E40']\n"
     ]
    }
   ],
   "source": [
    "cursor.execute(\"SELECT * FROM information_schema.columns WHERE table_schema = 'public' AND table_name = 'data'\")\n",
    "res = cursor.fetchall()\n",
    "columns = []\n",
    "\n",
    "for row in res:\n",
    "    columns.append(row[3])\n",
    "\n",
    "print(columns)"
   ]
  },
  {
   "cell_type": "code",
   "execution_count": 31,
   "id": "04450074",
   "metadata": {},
   "outputs": [],
   "source": [
    "x_head = [['TotalIngotsWeight', 'PouringScrap', 'OtherScrap', 'Cr_Last_EOP', 'Cr_Final_basic', 'Ni_Last_EOP', 'Ni_Final_basic', 'Mo_Last_EOP', 'Mo_Final_basic', 'V_Last_EOP', 'V_Final_basic', 'W_Last_EOP', 'W_Final_basic', 'Cr_Final', 'Ni_Final', 'Mo_Final', 'V_Final', 'W_Final', 'E3', 'OSIKRO3', 'OCR12', 'VCMO230', 'PK5', 'UTOPMO2', 'EMCR', 'E6', 'OCR12VM OSTRUŽKI', 'OCR12SP', 'PT181', 'CRV', 'E8', 'PK2', 'OSIKRO4', 'PT929', 'UTOP1', 'OH252', 'CRMO OSTRUŽKI', 'PK5M', 'OCR12VM', 'OH255', 'E40', 'ECN150', 'UTOP2', 'UTOPMO4', '31CRV3', 'PV_MKK', 'PV_PO102', 'PV_OCR12SPW', 'PV_OCR8W', 'PV_PO180', 'PV_PT181', 'PV_PT202', 'PV_PT212', 'PV_OH239', 'PV_OSIKRO3', 'PV_OW4', 'PV_OCR8VMS', 'PV_CRV3', 'PV_OH250', 'PV_OH252', 'PV_OH255', 'PV_OH257', 'PV_OH258', 'PV_OH260', 'PV_OH236NI', 'PV_UTOPMONI', 'PV_PKTB', 'PV_PK3NI', 'PV_PK332', 'PV_PK335', 'PV_PK338', 'PV_PK340', 'PV_PK11S', 'PV_PK343', 'PV_18MNCR4', 'PV_PK346', 'PV_INVAR36', 'PV_EMCR', 'PV_SIVA_LITINA', 'PV_CK10', 'PV_OC100EX', 'PV_EC80', 'PV_VCMO140', 'PV_VCMO230', 'PV_31CRV3', 'PV_ECN150', 'PV_ECN35', 'PV_VCNMO200', 'PV_UTOPNICU', 'PV_OH807', 'PV_OCR4PR', 'PV_OCR12', 'PV_OCR12SP', 'PV_OCR12EX', 'PV_CRV', 'PV_TMCN2', 'PV_TMCN1', 'PV_OSIKRO4', 'PV_OW1', 'PV_OCR12VM', 'PV_CRV2', 'PV_OSV1', 'PV_OW6', 'PV_145V33', 'PV_UTOP3', 'PV_UTOPMO2', 'PV_UTOPEX1', 'PV_UTOP1', 'PV_UTOP2', 'PV_UTOPCO', 'PV_UTOPEX3', 'PV_UTOPMO4', 'PV_UTOPCO2', 'PV_OV862', 'PV_UTOPMO6', 'PV_UTOP33', 'PV_UTOPSP', 'PV_UTOPCO3', 'PV_BRW', 'PV_BRW1', 'PV_BRC', 'PV_BRM2', 'PV_BRM1', 'PV_BRM', 'PV_BRCV', 'PV_BRC3', 'PV_BRU', 'PV_BRCMO', 'PV_BRCMO2', 'PV_UTOPTI', 'PV_12MN', 'PV_PK2', 'PV_RAVNIN2', 'PV_RAVNIN3', 'PV_RAVNIN4', 'PV_PK2SP', 'PV_PK11', 'PV_PK12', 'PV_PK13', 'PV_PKAS', 'PV_PK15', 'PV_PK19', 'PV_PK20', 'PV_PT929', 'PV_PK5', 'PV_PK5M', 'PV_28304N', 'PV_PK939', 'PV_X45', 'PV_PK942', 'PV_RAVNAL2', 'PV_PK10', 'PV_19MNCR18', 'PV_214N', 'PV_OCR8W_OSTRUŽKI', 'PV_CRV3_OSTRUŽKI', 'PV_PK335_OSTRUŽKI', 'PV_CRMO_OSTRUŽKI', 'PV_CRMO_DROBIŽ', 'PV_VCNMO200_DROBIŽ', 'PV_TMCN2_OSTRUŽKI', 'PV_OCR12VM_OSTRUŽKI', 'PV_POSEBNA_JEKLA_OSTRUŽKI', 'PV_BRM2_OSTRUŽKI', 'PV_E1', 'PV_E3', 'PV_E6', 'PV_E8', 'PV_Kore', 'PV_GRODELJ', 'PV_E40']]\n",
    "y_head = [['FeMo', 'FeV', 'FeCrC', 'FeCrC Si', 'FeCrCSi']]"
   ]
  },
  {
   "cell_type": "markdown",
   "id": "9c6322fa",
   "metadata": {},
   "source": [
    "#### Подключаем необходимые для создания моделей библиотеки"
   ]
  },
  {
   "cell_type": "code",
   "execution_count": 32,
   "id": "97c6786b",
   "metadata": {},
   "outputs": [],
   "source": [
    "from sklearn.ensemble import RandomForestRegressor\n",
    "from sklearn.model_selection import train_test_split"
   ]
  },
  {
   "cell_type": "markdown",
   "id": "f034af68",
   "metadata": {},
   "source": [
    "#### Необходимо создать модели для всех металлов указанных в массиве y_head"
   ]
  },
  {
   "cell_type": "code",
   "execution_count": 35,
   "id": "66497a31",
   "metadata": {
    "scrolled": false
   },
   "outputs": [],
   "source": [
    "metals_for_splav = {\n",
    "    \"FeMo\": \"Mo\",\n",
    "    \"FeV\": \"V\",\n",
    "    \"FeCrC\": \"Cr\",\n",
    "#     \"FeCrC Si\": \"Cr\",\n",
    "#     \"FeCrCSi\": \"Cr\"\n",
    "}"
   ]
  },
  {
   "cell_type": "code",
   "execution_count": 36,
   "id": "c3ebb20f",
   "metadata": {},
   "outputs": [],
   "source": [
    "for metal in metals_for_splav:\n",
    "    cursor.execute(f'SELECT \"{metal}\" FROM \"data\"')\n",
    "    res = cursor.fetchall()\n",
    "    y = []\n",
    "    \n",
    "    for item in res:\n",
    "        if item[0] == item[0]:\n",
    "            y.append(item[0])\n",
    "            \n",
    "    \n",
    "    cursor.execute(f'SELECT \"TotalIngotsWeight\", \"{metals_for_splav[metal]}_Last_EOP\", \"{metals_for_splav[metal]}_Final_basic\", \"{metals_for_splav[metal]}_Final\", \"E3\", \"OSIKRO3\", \"OCR12\", \"VCMO230\", \"PK5\", \"UTOPMO2\", \"EMCR\", \"E6\", \"OCR12VM OSTRUŽKI\", \"OCR12SP\", \"PT181\", \"CRV\", \"E8\", \"PK2\", \"OSIKRO4\", \"PT929\", \"UTOP1\", \"OH252\", \"CRMO OSTRUŽKI\", \"PK5M\", \"OCR12VM\", \"OH255\", \"E40\", \"ECN150\", \"UTOP2\", \"UTOPMO4\", \"31CRV3\", \"PV_MKK\", \"PV_PO102\", \"PV_OCR12SPW\", \"PV_OCR8W\", \"PV_PO180\", \"PV_PT181\", \"PV_PT202\", \"PV_PT212\", \"PV_OH239\", \"PV_OSIKRO3\", \"PV_OW4\", \"PV_OCR8VMS\", \"PV_CRV3\", \"PV_OH250\", \"PV_OH252\", \"PV_OH255\", \"PV_OH257\", \"PV_OH258\", \"PV_OH260\", \"PV_OH236NI\", \"PV_UTOPMONI\", \"PV_PKTB\", \"PV_PK3NI\", \"PV_PK332\", \"PV_PK335\", \"PV_PK338\", \"PV_PK340\", \"PV_PK11S\", \"PV_PK343\", \"PV_18MNCR4\", \"PV_PK346\", \"PV_INVAR36\", \"PV_EMCR\", \"PV_SIVA_LITINA\", \"PV_CK10\", \"PV_OC100EX\", \"PV_EC80\", \"PV_VCMO140\", \"PV_VCMO230\", \"PV_31CRV3\", \"PV_ECN150\", \"PV_ECN35\", \"PV_VCNMO200\", \"PV_UTOPNICU\", \"PV_OH807\", \"PV_OCR4PR\", \"PV_OCR12\", \"PV_OCR12SP\", \"PV_OCR12EX\", \"PV_CRV\", \"PV_TMCN2\", \"PV_TMCN1\", \"PV_OSIKRO4\", \"PV_OW1\", \"PV_OCR12VM\", \"PV_CRV2\", \"PV_OSV1\", \"PV_OW6\", \"PV_145V33\", \"PV_UTOP3\", \"PV_UTOPMO2\", \"PV_UTOPEX1\", \"PV_UTOP1\", \"PV_UTOP2\", \"PV_UTOPCO\", \"PV_UTOPEX3\", \"PV_UTOPMO4\", \"PV_UTOPCO2\", \"PV_OV862\", \"PV_UTOPMO6\", \"PV_UTOP33\", \"PV_UTOPSP\", \"PV_UTOPCO3\", \"PV_BRW\", \"PV_BRW1\", \"PV_BRC\", \"PV_BRM2\", \"PV_BRM1\", \"PV_BRM\", \"PV_BRCV\", \"PV_BRC3\", \"PV_BRU\", \"PV_BRCMO\", \"PV_BRCMO2\", \"PV_UTOPTI\", \"PV_12MN\", \"PV_PK2\", \"PV_RAVNIN2\", \"PV_RAVNIN3\", \"PV_RAVNIN4\", \"PV_PK2SP\", \"PV_PK11\", \"PV_PK12\", \"PV_PK13\", \"PV_PKAS\", \"PV_PK15\", \"PV_PK19\", \"PV_PK20\", \"PV_PT929\", \"PV_PK5\", \"PV_PK5M\", \"PV_28304N\", \"PV_PK939\", \"PV_X45\", \"PV_PK942\", \"PV_RAVNAL2\", \"PV_PK10\", \"PV_19MNCR18\", \"PV_214N\", \"PV_OCR8W_OSTRUŽKI\", \"PV_CRV3_OSTRUŽKI\", \"PV_PK335_OSTRUŽKI\", \"PV_CRMO_OSTRUŽKI\", \"PV_CRMO_DROBIŽ\", \"PV_VCNMO200_DROBIŽ\", \"PV_TMCN2_OSTRUŽKI\", \"PV_OCR12VM_OSTRUŽKI\", \"PV_POSEBNA_JEKLA_OSTRUŽKI\", \"PV_BRM2_OSTRUŽKI\", \"PV_E1\", \"PV_E3\", \"PV_E6\", \"PV_E8\", \"PV_Kore\", \"PV_GRODELJ\", \"PV_E40\" FROM \"data\"')\n",
    "    res = cursor.fetchall()\n",
    "\n",
    "    x = []\n",
    "    for row in res:\n",
    "        if (row[1] == row[1]) and (row[2] == row[2]):\n",
    "            x.append(row)\n",
    "    \n",
    "    regr = RandomForestRegressor(max_depth = 13, random_state = 0)\n",
    "    X_train, X_test, y_train, y_test = train_test_split(x, y, train_size = 0.7, random_state = 42)\n",
    "    regr.fit(X_train, y_train)\n",
    "    y_pred = regr.predict(X_test)\n",
    "    \n",
    "    f = open(f'{metals_for_splav[metal]}_model.pkl', 'wb')\n",
    "    pickle.dump(regr, f)"
   ]
  },
  {
   "cell_type": "markdown",
   "id": "c6abaf24",
   "metadata": {},
   "source": [
    "#### Всё, что ниже, уже неактуально. Просто для ознакомления"
   ]
  },
  {
   "cell_type": "code",
   "execution_count": null,
   "id": "356099eb",
   "metadata": {},
   "outputs": [],
   "source": [
    "cursor.execute('SELECT \"FeMo\" FROM \"data\"')\n",
    "res = cursor.fetchall()\n",
    "y = []\n",
    "\n",
    "for item in res:\n",
    "    if (item[0] == item[0]):\n",
    "        y.append(item[0])\n",
    "\n",
    "cursor.execute('SELECT \"TotalIngotsWeight\", \"Mo_Last_EOP\", \"Mo_Final_basic\", \"Mo_Final\", \"E3\", \"OSIKRO3\", \"OCR12\", \"VCMO230\", \"PK5\", \"UTOPMO2\", \"EMCR\", \"E6\", \"OCR12VM OSTRUŽKI\", \"OCR12SP\", \"PT181\", \"CRV\", \"E8\", \"PK2\", \"OSIKRO4\", \"PT929\", \"UTOP1\", \"OH252\", \"CRMO OSTRUŽKI\", \"PK5M\", \"OCR12VM\", \"OH255\", \"E40\", \"ECN150\", \"UTOP2\", \"UTOPMO4\", \"31CRV3\", \"PV_MKK\", \"PV_PO102\", \"PV_OCR12SPW\", \"PV_OCR8W\", \"PV_PO180\", \"PV_PT181\", \"PV_PT202\", \"PV_PT212\", \"PV_OH239\", \"PV_OSIKRO3\", \"PV_OW4\", \"PV_OCR8VMS\", \"PV_CRV3\", \"PV_OH250\", \"PV_OH252\", \"PV_OH255\", \"PV_OH257\", \"PV_OH258\", \"PV_OH260\", \"PV_OH236NI\", \"PV_UTOPMONI\", \"PV_PKTB\", \"PV_PK3NI\", \"PV_PK332\", \"PV_PK335\", \"PV_PK338\", \"PV_PK340\", \"PV_PK11S\", \"PV_PK343\", \"PV_18MNCR4\", \"PV_PK346\", \"PV_INVAR36\", \"PV_EMCR\", \"PV_SIVA_LITINA\", \"PV_CK10\", \"PV_OC100EX\", \"PV_EC80\", \"PV_VCMO140\", \"PV_VCMO230\", \"PV_31CRV3\", \"PV_ECN150\", \"PV_ECN35\", \"PV_VCNMO200\", \"PV_UTOPNICU\", \"PV_OH807\", \"PV_OCR4PR\", \"PV_OCR12\", \"PV_OCR12SP\", \"PV_OCR12EX\", \"PV_CRV\", \"PV_TMCN2\", \"PV_TMCN1\", \"PV_OSIKRO4\", \"PV_OW1\", \"PV_OCR12VM\", \"PV_CRV2\", \"PV_OSV1\", \"PV_OW6\", \"PV_145V33\", \"PV_UTOP3\", \"PV_UTOPMO2\", \"PV_UTOPEX1\", \"PV_UTOP1\", \"PV_UTOP2\", \"PV_UTOPCO\", \"PV_UTOPEX3\", \"PV_UTOPMO4\", \"PV_UTOPCO2\", \"PV_OV862\", \"PV_UTOPMO6\", \"PV_UTOP33\", \"PV_UTOPSP\", \"PV_UTOPCO3\", \"PV_BRW\", \"PV_BRW1\", \"PV_BRC\", \"PV_BRM2\", \"PV_BRM1\", \"PV_BRM\", \"PV_BRCV\", \"PV_BRC3\", \"PV_BRU\", \"PV_BRCMO\", \"PV_BRCMO2\", \"PV_UTOPTI\", \"PV_12MN\", \"PV_PK2\", \"PV_RAVNIN2\", \"PV_RAVNIN3\", \"PV_RAVNIN4\", \"PV_PK2SP\", \"PV_PK11\", \"PV_PK12\", \"PV_PK13\", \"PV_PKAS\", \"PV_PK15\", \"PV_PK19\", \"PV_PK20\", \"PV_PT929\", \"PV_PK5\", \"PV_PK5M\", \"PV_28304N\", \"PV_PK939\", \"PV_X45\", \"PV_PK942\", \"PV_RAVNAL2\", \"PV_PK10\", \"PV_19MNCR18\", \"PV_214N\", \"PV_OCR8W_OSTRUŽKI\", \"PV_CRV3_OSTRUŽKI\", \"PV_PK335_OSTRUŽKI\", \"PV_CRMO_OSTRUŽKI\", \"PV_CRMO_DROBIŽ\", \"PV_VCNMO200_DROBIŽ\", \"PV_TMCN2_OSTRUŽKI\", \"PV_OCR12VM_OSTRUŽKI\", \"PV_POSEBNA_JEKLA_OSTRUŽKI\", \"PV_BRM2_OSTRUŽKI\", \"PV_E1\", \"PV_E3\", \"PV_E6\", \"PV_E8\", \"PV_Kore\", \"PV_GRODELJ\", \"PV_E40\" FROM \"data\"')\n",
    "res = cursor.fetchall()\n",
    "\n",
    "x = []\n",
    "for row in res:\n",
    "    if (row[1] == row[1]) and (row[2] == row[2]):\n",
    "        x.append(row)"
   ]
  },
  {
   "cell_type": "code",
   "execution_count": null,
   "id": "6d35b673",
   "metadata": {},
   "outputs": [],
   "source": [
    "regr = RandomForestRegressor(max_depth = 13, random_state = 0)"
   ]
  },
  {
   "cell_type": "code",
   "execution_count": null,
   "id": "efa0e7e6",
   "metadata": {},
   "outputs": [],
   "source": [
    "X_train, X_test, y_train, y_test = train_test_split(x, y, train_size = 0.7, random_state = 42)"
   ]
  },
  {
   "cell_type": "code",
   "execution_count": null,
   "id": "c0305369",
   "metadata": {},
   "outputs": [],
   "source": [
    "regr.fit(X_train, y_train)"
   ]
  },
  {
   "cell_type": "code",
   "execution_count": null,
   "id": "ec68cd5c",
   "metadata": {},
   "outputs": [],
   "source": [
    "y_pred = regr.predict(X_test)"
   ]
  },
  {
   "cell_type": "code",
   "execution_count": null,
   "id": "4d621b64",
   "metadata": {},
   "outputs": [],
   "source": [
    "print((y_pred - y_test).sum() / len(y_pred))"
   ]
  },
  {
   "cell_type": "code",
   "execution_count": null,
   "id": "76cfeb5b",
   "metadata": {},
   "outputs": [],
   "source": [
    "plt.scatter(y_test, y_pred)\n",
    "plt.plot([0, 700], [0, 700], color = 'red')"
   ]
  },
  {
   "cell_type": "code",
   "execution_count": null,
   "id": "2a9f9b5b",
   "metadata": {},
   "outputs": [],
   "source": [
    "cursor.execute('SELECT \"FeV\" FROM \"data\"')\n",
    "res = cursor.fetchall()\n",
    "y = []\n",
    "\n",
    "for item in res:\n",
    "    if (item[0] == item[0]):\n",
    "        y.append(item[0])\n",
    "\n",
    "cursor.execute('SELECT \"TotalIngotsWeight\", \"V_Last_EOP\", \"V_Final_basic\", \"V_Final\", \"E3\", \"OSIKRO3\", \"OCR12\", \"VCMO230\", \"PK5\", \"UTOPMO2\", \"EMCR\", \"E6\", \"OCR12VM OSTRUŽKI\", \"OCR12SP\", \"PT181\", \"CRV\", \"E8\", \"PK2\", \"OSIKRO4\", \"PT929\", \"UTOP1\", \"OH252\", \"CRMO OSTRUŽKI\", \"PK5M\", \"OCR12VM\", \"OH255\", \"E40\", \"ECN150\", \"UTOP2\", \"UTOPMO4\", \"31CRV3\", \"PV_MKK\", \"PV_PO102\", \"PV_OCR12SPW\", \"PV_OCR8W\", \"PV_PO180\", \"PV_PT181\", \"PV_PT202\", \"PV_PT212\", \"PV_OH239\", \"PV_OSIKRO3\", \"PV_OW4\", \"PV_OCR8VMS\", \"PV_CRV3\", \"PV_OH250\", \"PV_OH252\", \"PV_OH255\", \"PV_OH257\", \"PV_OH258\", \"PV_OH260\", \"PV_OH236NI\", \"PV_UTOPMONI\", \"PV_PKTB\", \"PV_PK3NI\", \"PV_PK332\", \"PV_PK335\", \"PV_PK338\", \"PV_PK340\", \"PV_PK11S\", \"PV_PK343\", \"PV_18MNCR4\", \"PV_PK346\", \"PV_INVAR36\", \"PV_EMCR\", \"PV_SIVA_LITINA\", \"PV_CK10\", \"PV_OC100EX\", \"PV_EC80\", \"PV_VCMO140\", \"PV_VCMO230\", \"PV_31CRV3\", \"PV_ECN150\", \"PV_ECN35\", \"PV_VCNMO200\", \"PV_UTOPNICU\", \"PV_OH807\", \"PV_OCR4PR\", \"PV_OCR12\", \"PV_OCR12SP\", \"PV_OCR12EX\", \"PV_CRV\", \"PV_TMCN2\", \"PV_TMCN1\", \"PV_OSIKRO4\", \"PV_OW1\", \"PV_OCR12VM\", \"PV_CRV2\", \"PV_OSV1\", \"PV_OW6\", \"PV_145V33\", \"PV_UTOP3\", \"PV_UTOPMO2\", \"PV_UTOPEX1\", \"PV_UTOP1\", \"PV_UTOP2\", \"PV_UTOPCO\", \"PV_UTOPEX3\", \"PV_UTOPMO4\", \"PV_UTOPCO2\", \"PV_OV862\", \"PV_UTOPMO6\", \"PV_UTOP33\", \"PV_UTOPSP\", \"PV_UTOPCO3\", \"PV_BRW\", \"PV_BRW1\", \"PV_BRC\", \"PV_BRM2\", \"PV_BRM1\", \"PV_BRM\", \"PV_BRCV\", \"PV_BRC3\", \"PV_BRU\", \"PV_BRCMO\", \"PV_BRCMO2\", \"PV_UTOPTI\", \"PV_12MN\", \"PV_PK2\", \"PV_RAVNIN2\", \"PV_RAVNIN3\", \"PV_RAVNIN4\", \"PV_PK2SP\", \"PV_PK11\", \"PV_PK12\", \"PV_PK13\", \"PV_PKAS\", \"PV_PK15\", \"PV_PK19\", \"PV_PK20\", \"PV_PT929\", \"PV_PK5\", \"PV_PK5M\", \"PV_28304N\", \"PV_PK939\", \"PV_X45\", \"PV_PK942\", \"PV_RAVNAL2\", \"PV_PK10\", \"PV_19MNCR18\", \"PV_214N\", \"PV_OCR8W_OSTRUŽKI\", \"PV_CRV3_OSTRUŽKI\", \"PV_PK335_OSTRUŽKI\", \"PV_CRMO_OSTRUŽKI\", \"PV_CRMO_DROBIŽ\", \"PV_VCNMO200_DROBIŽ\", \"PV_TMCN2_OSTRUŽKI\", \"PV_OCR12VM_OSTRUŽKI\", \"PV_POSEBNA_JEKLA_OSTRUŽKI\", \"PV_BRM2_OSTRUŽKI\", \"PV_E1\", \"PV_E3\", \"PV_E6\", \"PV_E8\", \"PV_Kore\", \"PV_GRODELJ\", \"PV_E40\" FROM \"data\"')\n",
    "res = cursor.fetchall()\n",
    "\n",
    "x = []\n",
    "for row in res:\n",
    "    if (row[1] == row[1]) and (row[2] == row[2]):\n",
    "        print(row)\n",
    "        x.append(row)"
   ]
  },
  {
   "cell_type": "code",
   "execution_count": null,
   "id": "b36a1b42",
   "metadata": {},
   "outputs": [],
   "source": [
    "regrV = RandomForestRegressor(max_depth = 13, random_state = 0)"
   ]
  },
  {
   "cell_type": "code",
   "execution_count": null,
   "id": "731590a3",
   "metadata": {},
   "outputs": [],
   "source": [
    "X_train, X_test, y_train, y_test = train_test_split(x, y, train_size = 0.7, random_state = 42)"
   ]
  },
  {
   "cell_type": "code",
   "execution_count": null,
   "id": "2ffc540c",
   "metadata": {},
   "outputs": [],
   "source": [
    "regrV.fit(X_train, y_train)"
   ]
  },
  {
   "cell_type": "code",
   "execution_count": null,
   "id": "dd6da931",
   "metadata": {},
   "outputs": [],
   "source": [
    "y_pred = regr.predict(X_test)"
   ]
  },
  {
   "cell_type": "code",
   "execution_count": null,
   "id": "83036f27",
   "metadata": {},
   "outputs": [],
   "source": [
    "print((y_pred - y_test).sum() / len(y_pred))"
   ]
  },
  {
   "cell_type": "code",
   "execution_count": null,
   "id": "223b92da",
   "metadata": {},
   "outputs": [],
   "source": [
    "plt.scatter(y_test, y_pred)\n",
    "plt.plot([0, 700], [0, 700], color = 'red')"
   ]
  }
 ],
 "metadata": {
  "kernelspec": {
   "display_name": "Python 3 (ipykernel)",
   "language": "python",
   "name": "python3"
  },
  "language_info": {
   "codemirror_mode": {
    "name": "ipython",
    "version": 3
   },
   "file_extension": ".py",
   "mimetype": "text/x-python",
   "name": "python",
   "nbconvert_exporter": "python",
   "pygments_lexer": "ipython3",
   "version": "3.9.5"
  }
 },
 "nbformat": 4,
 "nbformat_minor": 5
}
